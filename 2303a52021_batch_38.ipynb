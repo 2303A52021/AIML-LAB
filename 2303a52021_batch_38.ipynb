{
  "nbformat": 4,
  "nbformat_minor": 0,
  "metadata": {
    "colab": {
      "provenance": [],
      "authorship_tag": "ABX9TyNuDGIn7NzrhB13W/Tu/zWw",
      "include_colab_link": true
    },
    "kernelspec": {
      "name": "python3",
      "display_name": "Python 3"
    },
    "language_info": {
      "name": "python"
    }
  },
  "cells": [
    {
      "cell_type": "markdown",
      "metadata": {
        "id": "view-in-github",
        "colab_type": "text"
      },
      "source": [
        "<a href=\"https://colab.research.google.com/github/2303A52021/AIML-LAB/blob/main/2303a52021_batch_38.ipynb\" target=\"_parent\"><img src=\"https://colab.research.google.com/assets/colab-badge.svg\" alt=\"Open In Colab\"/></a>"
      ]
    },
    {
      "cell_type": "code",
      "source": [
        "import numpy as np\n",
        "import pandas as pd\n",
        "import matplotlib.pyplot as plt\n",
        "import seaborn as sns\n",
        "from sklearn.model_selection import train_test_split\n",
        "from sklearn.metrics import accuracy_score, confusion_matrix, classification_report\n",
        "from sklearn.preprocessing import StandardScaler, LabelEncoder\n",
        "from sklearn.neighbors import KNeighborsClassifier\n",
        "from sklearn.linear_model import LinearRegression\n",
        "from sklearn.metrics import mean_squared_error, r2_score\n",
        "from sklearn.ensemble import RandomForestClassifier\n",
        "\n",
        "\n",
        "try:\n",
        "\n",
        "    df = pd.read_csv(\"/content/turkishCF.csv\", delimiter=';', on_bad_lines='skip', encoding='latin-1')\n",
        "except pd.errors.ParserError:\n",
        "    try:\n",
        "        df = pd.read_csv(\"/content/turkishCF.csv\", delimiter=',', on_bad_lines='skip', encoding='latin-1')  # Try comma, skip bad lines\n",
        "    except pd.errors.ParserError:\n",
        "        try:\n",
        "            df = pd.read_csv(\"/content/turkishCF.csv\", delimiter='\\t', on_bad_lines='skip', encoding='latin-1')  # Try tab, skip bad lines\n",
        "        except pd.errors.ParserError:\n",
        "            df = pd.read_csv(\"/content/turkishCF.csv\", delimiter='|', on_bad_lines='skip', encoding='latin-1')  # Try pipe, skip bad lines\n",
        "\n",
        "print(\"Original Column Names:\", df.columns)\n",
        "df = df.iloc[:, [0, 1, 2, 3, 4, 5, 6]]\n",
        "df.columns = ['Startup Name', 'City', 'Funding', 'Industry', 'Founder Gender', 'Technology', 'Total Funding']\n",
        "\n",
        "print(df.head())\n",
        "print(df.tail())\n",
        "\n",
        "\n",
        "df['Funding'] = pd.to_numeric(df['Funding'], errors='coerce')\n",
        "\n",
        "top_10_startups = df.nlargest(10, 'Funding')\n",
        "print(\"Top-10 Startups in Turkey:\")\n",
        "print(top_10_startups[['Startup Name', 'Funding']])\n",
        "\n",
        "max_funding = df['Funding'].max()\n",
        "min_funding = df['Funding'].min()\n",
        "print(f\"Max Crowdsourced Funding: {max_funding}\")\n",
        "print(f\"Min Crowdsourced Funding: {min_funding}\")\n",
        "\n",
        "gender_funding = df.groupby('Founder Gender')['Funding'].sum()\n",
        "most_funding_gender = gender_funding.idxmax()\n",
        "print(f\"Gender with Most Funding: {most_funding_gender}\")\n",
        "\n",
        "industry_funding = df.groupby('Industry')['Funding'].sum()\n",
        "most_funding_industry = industry_funding.idxmax()\n",
        "print(f\"Industry with Most Funding: {most_funding_industry}\")\n",
        "top_5_cities = df['City'].value_"
      ],
      "metadata": {
        "id": "96lMHoZN5iWr"
      },
      "execution_count": null,
      "outputs": []
    }
  ]
}